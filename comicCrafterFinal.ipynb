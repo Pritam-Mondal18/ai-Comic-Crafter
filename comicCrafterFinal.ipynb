{
  "cells": [
    {
      "cell_type": "markdown",
      "metadata": {
        "id": "view-in-github",
        "colab_type": "text"
      },
      "source": [
        "<a href=\"https://colab.research.google.com/github/Pritam-Mondal18/ai-Comic-Crafter/blob/main/comicCrafterFinal.ipynb\" target=\"_parent\"><img src=\"https://colab.research.google.com/assets/colab-badge.svg\" alt=\"Open In Colab\"/></a>"
      ]
    },
    {
      "cell_type": "code",
      "execution_count": 1,
      "metadata": {
        "colab": {
          "base_uri": "https://localhost:8080/"
        },
        "id": "PabOsLjt-jzd",
        "outputId": "0b82adfd-db29-4b4b-e236-dbd624f359a8"
      },
      "outputs": [
        {
          "output_type": "stream",
          "name": "stdout",
          "text": [
            "Collecting streamlit\n",
            "  Downloading streamlit-1.44.0-py3-none-any.whl.metadata (8.9 kB)\n",
            "Collecting pyngrok\n",
            "  Downloading pyngrok-7.2.3-py3-none-any.whl.metadata (8.7 kB)\n",
            "Requirement already satisfied: altair<6,>=4.0 in /usr/local/lib/python3.11/dist-packages (from streamlit) (5.5.0)\n",
            "Requirement already satisfied: blinker<2,>=1.0.0 in /usr/local/lib/python3.11/dist-packages (from streamlit) (1.9.0)\n",
            "Requirement already satisfied: cachetools<6,>=4.0 in /usr/local/lib/python3.11/dist-packages (from streamlit) (5.5.2)\n",
            "Requirement already satisfied: click<9,>=7.0 in /usr/local/lib/python3.11/dist-packages (from streamlit) (8.1.8)\n",
            "Requirement already satisfied: numpy<3,>=1.23 in /usr/local/lib/python3.11/dist-packages (from streamlit) (2.0.2)\n",
            "Requirement already satisfied: packaging<25,>=20 in /usr/local/lib/python3.11/dist-packages (from streamlit) (24.2)\n",
            "Requirement already satisfied: pandas<3,>=1.4.0 in /usr/local/lib/python3.11/dist-packages (from streamlit) (2.2.2)\n",
            "Requirement already satisfied: pillow<12,>=7.1.0 in /usr/local/lib/python3.11/dist-packages (from streamlit) (11.1.0)\n",
            "Requirement already satisfied: protobuf<6,>=3.20 in /usr/local/lib/python3.11/dist-packages (from streamlit) (5.29.4)\n",
            "Requirement already satisfied: pyarrow>=7.0 in /usr/local/lib/python3.11/dist-packages (from streamlit) (18.1.0)\n",
            "Requirement already satisfied: requests<3,>=2.27 in /usr/local/lib/python3.11/dist-packages (from streamlit) (2.32.3)\n",
            "Requirement already satisfied: tenacity<10,>=8.1.0 in /usr/local/lib/python3.11/dist-packages (from streamlit) (9.0.0)\n",
            "Requirement already satisfied: toml<2,>=0.10.1 in /usr/local/lib/python3.11/dist-packages (from streamlit) (0.10.2)\n",
            "Requirement already satisfied: typing-extensions<5,>=4.4.0 in /usr/local/lib/python3.11/dist-packages (from streamlit) (4.13.0)\n",
            "Collecting watchdog<7,>=2.1.5 (from streamlit)\n",
            "  Downloading watchdog-6.0.0-py3-none-manylinux2014_x86_64.whl.metadata (44 kB)\n",
            "\u001b[2K     \u001b[90m━━━━━━━━━━━━━━━━━━━━━━━━━━━━━━━━━━━━━━━━\u001b[0m \u001b[32m44.3/44.3 kB\u001b[0m \u001b[31m2.1 MB/s\u001b[0m eta \u001b[36m0:00:00\u001b[0m\n",
            "\u001b[?25hRequirement already satisfied: gitpython!=3.1.19,<4,>=3.0.7 in /usr/local/lib/python3.11/dist-packages (from streamlit) (3.1.44)\n",
            "Collecting pydeck<1,>=0.8.0b4 (from streamlit)\n",
            "  Downloading pydeck-0.9.1-py2.py3-none-any.whl.metadata (4.1 kB)\n",
            "Requirement already satisfied: tornado<7,>=6.0.3 in /usr/local/lib/python3.11/dist-packages (from streamlit) (6.4.2)\n",
            "Requirement already satisfied: PyYAML>=5.1 in /usr/local/lib/python3.11/dist-packages (from pyngrok) (6.0.2)\n",
            "Requirement already satisfied: jinja2 in /usr/local/lib/python3.11/dist-packages (from altair<6,>=4.0->streamlit) (3.1.6)\n",
            "Requirement already satisfied: jsonschema>=3.0 in /usr/local/lib/python3.11/dist-packages (from altair<6,>=4.0->streamlit) (4.23.0)\n",
            "Requirement already satisfied: narwhals>=1.14.2 in /usr/local/lib/python3.11/dist-packages (from altair<6,>=4.0->streamlit) (1.32.0)\n",
            "Requirement already satisfied: gitdb<5,>=4.0.1 in /usr/local/lib/python3.11/dist-packages (from gitpython!=3.1.19,<4,>=3.0.7->streamlit) (4.0.12)\n",
            "Requirement already satisfied: python-dateutil>=2.8.2 in /usr/local/lib/python3.11/dist-packages (from pandas<3,>=1.4.0->streamlit) (2.8.2)\n",
            "Requirement already satisfied: pytz>=2020.1 in /usr/local/lib/python3.11/dist-packages (from pandas<3,>=1.4.0->streamlit) (2025.2)\n",
            "Requirement already satisfied: tzdata>=2022.7 in /usr/local/lib/python3.11/dist-packages (from pandas<3,>=1.4.0->streamlit) (2025.2)\n",
            "Requirement already satisfied: charset-normalizer<4,>=2 in /usr/local/lib/python3.11/dist-packages (from requests<3,>=2.27->streamlit) (3.4.1)\n",
            "Requirement already satisfied: idna<4,>=2.5 in /usr/local/lib/python3.11/dist-packages (from requests<3,>=2.27->streamlit) (3.10)\n",
            "Requirement already satisfied: urllib3<3,>=1.21.1 in /usr/local/lib/python3.11/dist-packages (from requests<3,>=2.27->streamlit) (2.3.0)\n",
            "Requirement already satisfied: certifi>=2017.4.17 in /usr/local/lib/python3.11/dist-packages (from requests<3,>=2.27->streamlit) (2025.1.31)\n",
            "Requirement already satisfied: smmap<6,>=3.0.1 in /usr/local/lib/python3.11/dist-packages (from gitdb<5,>=4.0.1->gitpython!=3.1.19,<4,>=3.0.7->streamlit) (5.0.2)\n",
            "Requirement already satisfied: MarkupSafe>=2.0 in /usr/local/lib/python3.11/dist-packages (from jinja2->altair<6,>=4.0->streamlit) (3.0.2)\n",
            "Requirement already satisfied: attrs>=22.2.0 in /usr/local/lib/python3.11/dist-packages (from jsonschema>=3.0->altair<6,>=4.0->streamlit) (25.3.0)\n",
            "Requirement already satisfied: jsonschema-specifications>=2023.03.6 in /usr/local/lib/python3.11/dist-packages (from jsonschema>=3.0->altair<6,>=4.0->streamlit) (2024.10.1)\n",
            "Requirement already satisfied: referencing>=0.28.4 in /usr/local/lib/python3.11/dist-packages (from jsonschema>=3.0->altair<6,>=4.0->streamlit) (0.36.2)\n",
            "Requirement already satisfied: rpds-py>=0.7.1 in /usr/local/lib/python3.11/dist-packages (from jsonschema>=3.0->altair<6,>=4.0->streamlit) (0.24.0)\n",
            "Requirement already satisfied: six>=1.5 in /usr/local/lib/python3.11/dist-packages (from python-dateutil>=2.8.2->pandas<3,>=1.4.0->streamlit) (1.17.0)\n",
            "Downloading streamlit-1.44.0-py3-none-any.whl (9.8 MB)\n",
            "\u001b[2K   \u001b[90m━━━━━━━━━━━━━━━━━━━━━━━━━━━━━━━━━━━━━━━━\u001b[0m \u001b[32m9.8/9.8 MB\u001b[0m \u001b[31m34.5 MB/s\u001b[0m eta \u001b[36m0:00:00\u001b[0m\n",
            "\u001b[?25hDownloading pyngrok-7.2.3-py3-none-any.whl (23 kB)\n",
            "Downloading pydeck-0.9.1-py2.py3-none-any.whl (6.9 MB)\n",
            "\u001b[2K   \u001b[90m━━━━━━━━━━━━━━━━━━━━━━━━━━━━━━━━━━━━━━━━\u001b[0m \u001b[32m6.9/6.9 MB\u001b[0m \u001b[31m33.7 MB/s\u001b[0m eta \u001b[36m0:00:00\u001b[0m\n",
            "\u001b[?25hDownloading watchdog-6.0.0-py3-none-manylinux2014_x86_64.whl (79 kB)\n",
            "\u001b[2K   \u001b[90m━━━━━━━━━━━━━━━━━━━━━━━━━━━━━━━━━━━━━━━━\u001b[0m \u001b[32m79.1/79.1 kB\u001b[0m \u001b[31m5.5 MB/s\u001b[0m eta \u001b[36m0:00:00\u001b[0m\n",
            "\u001b[?25hInstalling collected packages: watchdog, pyngrok, pydeck, streamlit\n",
            "Successfully installed pydeck-0.9.1 pyngrok-7.2.3 streamlit-1.44.0 watchdog-6.0.0\n"
          ]
        }
      ],
      "source": [
        "!pip install streamlit pyngrok"
      ]
    },
    {
      "cell_type": "code",
      "source": [
        "pip install llama-cpp-python"
      ],
      "metadata": {
        "colab": {
          "base_uri": "https://localhost:8080/"
        },
        "id": "vYOYlDGYhdwx",
        "outputId": "6781c7a6-1344-41ff-a5b1-b8746f3de6d0"
      },
      "execution_count": 2,
      "outputs": [
        {
          "output_type": "stream",
          "name": "stdout",
          "text": [
            "Collecting llama-cpp-python\n",
            "  Downloading llama_cpp_python-0.3.8.tar.gz (67.3 MB)\n",
            "\u001b[2K     \u001b[90m━━━━━━━━━━━━━━━━━━━━━━━━━━━━━━━━━━━━━━━━\u001b[0m \u001b[32m67.3/67.3 MB\u001b[0m \u001b[31m6.6 MB/s\u001b[0m eta \u001b[36m0:00:00\u001b[0m\n",
            "\u001b[?25h  Installing build dependencies ... \u001b[?25l\u001b[?25hdone\n",
            "  Getting requirements to build wheel ... \u001b[?25l\u001b[?25hdone\n",
            "  Installing backend dependencies ... \u001b[?25l\u001b[?25hdone\n",
            "  Preparing metadata (pyproject.toml) ... \u001b[?25l\u001b[?25hdone\n",
            "Requirement already satisfied: typing-extensions>=4.5.0 in /usr/local/lib/python3.11/dist-packages (from llama-cpp-python) (4.13.0)\n",
            "Requirement already satisfied: numpy>=1.20.0 in /usr/local/lib/python3.11/dist-packages (from llama-cpp-python) (2.0.2)\n",
            "Collecting diskcache>=5.6.1 (from llama-cpp-python)\n",
            "  Downloading diskcache-5.6.3-py3-none-any.whl.metadata (20 kB)\n",
            "Requirement already satisfied: jinja2>=2.11.3 in /usr/local/lib/python3.11/dist-packages (from llama-cpp-python) (3.1.6)\n",
            "Requirement already satisfied: MarkupSafe>=2.0 in /usr/local/lib/python3.11/dist-packages (from jinja2>=2.11.3->llama-cpp-python) (3.0.2)\n",
            "Downloading diskcache-5.6.3-py3-none-any.whl (45 kB)\n",
            "\u001b[2K   \u001b[90m━━━━━━━━━━━━━━━━━━━━━━━━━━━━━━━━━━━━━━━━\u001b[0m \u001b[32m45.5/45.5 kB\u001b[0m \u001b[31m2.8 MB/s\u001b[0m eta \u001b[36m0:00:00\u001b[0m\n",
            "\u001b[?25hBuilding wheels for collected packages: llama-cpp-python\n",
            "  Building wheel for llama-cpp-python (pyproject.toml) ... \u001b[?25l\u001b[?25hdone\n",
            "  Created wheel for llama-cpp-python: filename=llama_cpp_python-0.3.8-cp311-cp311-linux_x86_64.whl size=5959638 sha256=ff56dfd2c0dc577ef0c665b07faf492623888e78e472da996f18bdbd4341ebf5\n",
            "  Stored in directory: /root/.cache/pip/wheels/c0/03/66/eb3810eafd55d921b2be32896d1f44313996982360663aa80b\n",
            "Successfully built llama-cpp-python\n",
            "Installing collected packages: diskcache, llama-cpp-python\n",
            "Successfully installed diskcache-5.6.3 llama-cpp-python-0.3.8\n"
          ]
        }
      ]
    },
    {
      "cell_type": "code",
      "execution_count": 3,
      "metadata": {
        "id": "859JMrZEdU2a"
      },
      "outputs": [],
      "source": [
        "from huggingface_hub import login\n",
        "login(\"YOUR_ACCESS_TOKEN\")\n"
      ]
    },
    {
      "cell_type": "code",
      "source": [
        "%%writefile app.py\n",
        "import streamlit as st\n",
        "import torch\n",
        "from diffusers import StableDiffusionXLPipeline\n",
        "from transformers import pipeline\n",
        "import os\n",
        "import zipfile\n",
        "from io import BytesIO\n",
        "\n",
        "# Set Page Configuration\n",
        "st.set_page_config(page_title=\"AI Comic Crafter\", page_icon=\"🦸\", layout=\"wide\")\n",
        "\n",
        "# Load Stable Diffusion Model (Hugging Face Diffusers)\n",
        "@st.cache_resource\n",
        "def load_sd_model():\n",
        "    model_id = \"stabilityai/stable-diffusion-xl-base-1.0\"\n",
        "    pipe = StableDiffusionXLPipeline.from_pretrained(\n",
        "        model_id,\n",
        "        torch_dtype=torch.float16 if torch.cuda.is_available() else torch.float32\n",
        "    )\n",
        "    pipe.to(\"cuda\" if torch.cuda.is_available() else \"cpu\")\n",
        "    return pipe\n",
        "\n",
        "pipe = load_sd_model()\n",
        "\n",
        "# Load a Smaller LLM Model (GPT-2 for Text Generation)\n",
        "@st.cache_resource\n",
        "def load_llm():\n",
        "    return pipeline(\"text-generation\", model=\"gpt2\")\n",
        "\n",
        "llm = load_llm()\n",
        "\n",
        "# Custom Comic-Style CSS with Dark Theme\n",
        "comic_css = \"\"\"\n",
        "    <style>\n",
        "        @import url('https://fonts.googleapis.com/css2?family=Comic+Neue:wght@700&display=swap');\n",
        "        html, body, [class*=\"st-\"] {\n",
        "            font-family: 'Comic Neue', cursive;\n",
        "            background-color: #1a1a2e;\n",
        "            color: #ffffff;\n",
        "        }\n",
        "        .title {\n",
        "            text-align: center;\n",
        "            color: #ffcc00;\n",
        "            font-size: 52px;\n",
        "            text-shadow: 4px 4px 0px #000;\n",
        "        }\n",
        "        .comic-box {\n",
        "            border: 4px solid #ff4500;\n",
        "            padding: 20px;\n",
        "            background: #222;\n",
        "            box-shadow: 5px 5px 0px #ff4500;\n",
        "            margin: 15px;\n",
        "            border-radius: 10px;\n",
        "        }\n",
        "    </style>\n",
        "\"\"\"\n",
        "st.markdown(comic_css, unsafe_allow_html=True)\n",
        "\n",
        "# Title\n",
        "st.markdown(\"<h1 class='title'>🎨 AI Comic Crafter 🦸</h1>\", unsafe_allow_html=True)\n",
        "\n",
        "# Sidebar Settings\n",
        "st.sidebar.header(\"📜 Story Settings\")\n",
        "genre = st.sidebar.selectbox(\"Choose a Genre\", [\"Superhero\", \"Fantasy\", \"Sci-Fi\", \"Mystery\"])\n",
        "style = st.sidebar.selectbox(\"Comic Style\", [\"Manga\", \"Cartoon\", \"Realistic\", \"Vintage\"])\n",
        "num_panels = 4  # Fixed to match the 4 story sections\n",
        "\n",
        "# Story Input\n",
        "st.markdown(\"<div class='comic-box'><h2>📝 Enter Your Story Elements:</h2></div>\", unsafe_allow_html=True)\n",
        "introduction = st.text_area(\"Introduction\", \"\")\n",
        "storyline = st.text_area(\"Storyline\", \"\")\n",
        "climax = st.text_area(\"Climax\", \"\")\n",
        "moral = st.text_area(\"Moral\", \"\")\n",
        "\n",
        "# Generate Story Using LLM\n",
        "if st.button(\"🤖 Generate Story with AI\"):\n",
        "    with st.spinner(\"Generating story elements...\"):\n",
        "        intro_text = llm(f\"Generate an introduction for a {genre} comic story.\", max_length=50)[0]['generated_text']\n",
        "        story_text = llm(f\"Generate the main storyline for a {genre} comic story.\", max_length=100)[0]['generated_text']\n",
        "        climax_text = llm(f\"Generate a climax for a {genre} comic story.\", max_length=50)[0]['generated_text']\n",
        "        moral_text = llm(f\"Generate a moral for a {genre} comic story.\", max_length=40)[0]['generated_text']\n",
        "\n",
        "    introduction = st.text_area(\"Introduction\", intro_text)\n",
        "    storyline = st.text_area(\"Storyline\", story_text)\n",
        "    climax = st.text_area(\"Climax\", climax_text)\n",
        "    moral = st.text_area(\"Moral\", moral_text)\n",
        "\n",
        "# Function to Generate Comic-Style Images\n",
        "def generate_comic_images(prompts):\n",
        "    image_paths = []\n",
        "    for i, prompt in enumerate(prompts):\n",
        "        panel_prompt = f\"{prompt}, {style} comic-style, highly detailed, vibrant colors\"\n",
        "        image = pipe(prompt=panel_prompt).images[0]  # Generate image\n",
        "        image_path = f\"comic_panel_{i+1}.png\"\n",
        "        image.save(image_path)\n",
        "        image_paths.append(image_path)\n",
        "    return image_paths\n",
        "\n",
        "# Generate Story & Images\n",
        "if st.button(\"🦸 Generate Comic\"):\n",
        "    st.markdown(\"<h2 style='color:#ffcc00'>📖 Story Panels:</h2>\", unsafe_allow_html=True)\n",
        "\n",
        "    with st.spinner(\"Generating Comic Panels... 🖌️\"):\n",
        "        image_paths = generate_comic_images([introduction, storyline, climax, moral])\n",
        "\n",
        "    story_parts = [\"Introduction\", \"Storyline\", \"Climax\", \"Moral\"]\n",
        "    for i, img_path in enumerate(image_paths):\n",
        "        st.markdown(f\"<div class='comic-box'><h3><b>{story_parts[i]}:</b> {eval(story_parts[i].lower())}</h3>\", unsafe_allow_html=True)\n",
        "        st.image(img_path, caption=f\"Comic Panel {i+1}\")\n",
        "        st.markdown(\"</div>\", unsafe_allow_html=True)\n",
        "\n",
        "    # Zip and provide download button\n",
        "    if image_paths:\n",
        "        zip_buffer = BytesIO()\n",
        "        with zipfile.ZipFile(zip_buffer, \"w\") as zip_file:\n",
        "            for img_path in image_paths:\n",
        "                zip_file.write(img_path)\n",
        "        zip_buffer.seek(0)\n",
        "        st.sidebar.download_button(\n",
        "            label=\"📥 Download All Panels\",\n",
        "            data=zip_buffer,\n",
        "            file_name=\"comic_panels.zip\",\n",
        "            mime=\"application/zip\"\n",
        "        )\n",
        "\n",
        "# Footer\n",
        "st.sidebar.write(\"✨ Powered by AI & Pritam 🚀\")\n"
      ],
      "metadata": {
        "colab": {
          "base_uri": "https://localhost:8080/"
        },
        "id": "IBU9V0JnkmhU",
        "outputId": "f839fca4-99c6-49b9-d261-d635a3731e06"
      },
      "execution_count": 4,
      "outputs": [
        {
          "output_type": "stream",
          "name": "stdout",
          "text": [
            "Writing app.py\n"
          ]
        }
      ]
    },
    {
      "cell_type": "code",
      "execution_count": 5,
      "metadata": {
        "id": "W1WjicMXQpDO"
      },
      "outputs": [],
      "source": [
        "!pkill -f ngrok\n"
      ]
    },
    {
      "cell_type": "code",
      "execution_count": 6,
      "metadata": {
        "colab": {
          "base_uri": "https://localhost:8080/"
        },
        "id": "vyTjtOEYQpAJ",
        "outputId": "b104f2b4-1a1e-44a0-d71d-f4a0fc144b38"
      },
      "outputs": [
        {
          "output_type": "stream",
          "name": "stdout",
          "text": [
            "Authtoken saved to configuration file: /root/.config/ngrok/ngrok.yml\n"
          ]
        }
      ],
      "source": [
        "!ngrok authtoken YOUR_ACCESS_TOKEN"
      ]
    },
    {
      "cell_type": "code",
      "execution_count": 7,
      "metadata": {
        "colab": {
          "base_uri": "https://localhost:8080/"
        },
        "id": "CDthiszYQ19w",
        "outputId": "e2f0a877-c192-4aea-f5e1-f506f9534c47"
      },
      "outputs": [
        {
          "output_type": "stream",
          "name": "stdout",
          "text": [
            "Streamlit app is live at: NgrokTunnel: \"https://d325-34-19-84-118.ngrok-free.app\" -> \"http://localhost:8501\"\n"
          ]
        }
      ],
      "source": [
        "from pyngrok import ngrok\n",
        "import os\n",
        "\n",
        "# Run Streamlit in the background\n",
        "os.system(\"streamlit run app.py &\")\n",
        "\n",
        "# Expose port 8501 (Streamlit's default port)\n",
        "public_url = ngrok.connect(8501)\n",
        "print(f\"Streamlit app is live at: {public_url}\")"
      ]
    }
  ],
  "metadata": {
    "colab": {
      "provenance": [],
      "gpuType": "T4",
      "authorship_tag": "ABX9TyOhvbRS9DVnUp3Oa3M/HVAi",
      "include_colab_link": true
    },
    "kernelspec": {
      "display_name": "Python 3",
      "name": "python3"
    },
    "language_info": {
      "name": "python"
    },
    "accelerator": "GPU"
  },
  "nbformat": 4,
  "nbformat_minor": 0
}